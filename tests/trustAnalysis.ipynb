{
 "cells": [
  {
   "cell_type": "markdown",
   "metadata": {},
   "source": [
    "# Initial functions"
   ]
  },
  {
   "cell_type": "markdown",
   "metadata": {},
   "source": [
    "Import libraries"
   ]
  },
  {
   "cell_type": "code",
   "execution_count": 139,
   "metadata": {},
   "outputs": [],
   "source": [
    "#Import library\n",
    "%matplotlib qt\n",
    "import numpy as np\n",
    "import staticCreepModule as creeplib\n",
    "import matplotlib.pyplot as plt\n",
    "import pandas as pd\n",
    "import datetime \n",
    "\n",
    "#Configurations of how to process data\n",
    "setOfSpecimens=0\n",
    "deriveLVDT=True\n",
    "timeInspection=False"
   ]
  },
  {
   "cell_type": "markdown",
   "metadata": {},
   "source": [
    "Get the path of the test results"
   ]
  },
  {
   "cell_type": "code",
   "execution_count": 140,
   "metadata": {},
   "outputs": [],
   "source": [
    "# Get path of the folder containing the test results\n",
    "from tkinter.filedialog import askopenfilename, askdirectory\n",
    "from tkinter import Tk\n",
    "import os\n",
    "root = Tk().withdraw()\n",
    "path = askdirectory()\n",
    "Tk().destroy()"
   ]
  },
  {
   "cell_type": "markdown",
   "metadata": {},
   "source": [
    "Construct specimen and experimental objects"
   ]
  },
  {
   "cell_type": "code",
   "execution_count": 141,
   "metadata": {},
   "outputs": [],
   "source": [
    "'''\n",
    "GENERAL INFO ABOUT THE TEST\n",
    "----------------------------------------------------------------------------\n",
    "SPECIMEN    BATCH   SYSTEM          LVDTS       BASE_LENGTH(MM)     APPLIED_STRESS(MPA)\n",
    "----------------------------------------------------------------------------\n",
    "SP1                 inegi        5,4,7       65.04667        8.47083\n",
    "SP2                 inegi        9,8,6       57.63667        9.56737\n",
    "SP3                 inegi        10,11,3       56.47667        9.66956\n",
    "SP4                 inegi        1,2,0       56.50667           8.59628\n",
    "----------------------------------------------------------------------------\n",
    "'''\n",
    "#Instantiate test specimens data\n",
    "SP1=creeplib.testSpecimen(\"SP1\",'inegi',[6,5,8],65.04667, 8.47083, [\"SP1-LVDT_2A\",\"SP1-LVDT_1A\",\"SP1-LVDT_4A\"], [(1,0,0),(1,0.40,0.40),(1,0.70,0.70)],['-','--','-.'])\n",
    "SP2=creeplib.testSpecimen(\"SP2\",'inegi',[10,9,7],57.63667, 9.56737,  [\"SP2-LVDT_5A\",\"SP2-LVDT_5\",\"SP2-LVDT_3A\"],[(0,0,0),(0.2,0.20,0.20),(0.70,0.70,0.70)],['-','--','-.'])\n",
    "SP3=creeplib.testSpecimen(\"SP3\",'inegi',[11,12,4],56.47667, 9.66956, [\"SP3-LVDT_7\",\"SP3-LVDT_9\",\"SP3-LVDT_10\"], [(0,1,1),(0.2,1,1),(0.4,1,1)],['-','--','-.'])\n",
    "SP4=creeplib.testSpecimen(\"SP4\",'inegi',[2,3,1],56.50667, 8.59628, [\"SP4-LVDT_0\",\"SP4-LVDT_1\",\"SP4-HS_25\"], [(1,1,1),(0.95,1,1),(0.90,1,1)],['-','--','-.'])\n",
    "#Instasntiate load cell data\n",
    "loadCellInterface=creeplib.loadCell(\"Interface-LC\", 'inegi', 13, (1,0,0), '--')\n",
    "#Instantiate loading switch data\n",
    "loadingSwitch=creeplib.loadingSwitch()\n",
    "\n",
    "#Option 1:\n",
    "experiment = creeplib.experiment([SP1,SP2,SP3,SP4],[loadCellInterface],loadingSwitch)"
   ]
  },
  {
   "cell_type": "markdown",
   "metadata": {},
   "source": [
    "### Release correction"
   ]
  },
  {
   "cell_type": "code",
   "execution_count": 142,
   "metadata": {},
   "outputs": [],
   "source": [
    "#Deal with sudden releases occured in the LVDTs, when they get unstucked\n",
    "#For line number, subtract 25 from the line number in Excel - this means subtracting the entire header of the file, counting from the first line of acquired data\n",
    "#Remeber that if, for a given specimen, more than 1 LVDT line needs correction per file, than they all should be stated in the same method call\n",
    "#This framework is probably not prepared if more than 1 correction per file is needed. If such case happens, we need to reimplement some things\n",
    "\n",
    "SP2.addReleaseCorrection('2023-07-17-12-42-S26.csv',[\"SP2-LVDT_5\"],[547],[-0.16647228])\n",
    "SP2.addReleaseCorrection('2023-07-24-20-02-S31.csv',[\"SP2-LVDT_5\"],[233],[0.17222328])\n",
    "\n",
    "SP2.addReleaseCorrection('2023-08-02-08-47-S36.csv',[\"SP2-LVDT_5\"],[1391],[-0.16036344])\n",
    "SP2.addReleaseCorrection('2023-10-02-18-05-S54.csv',[\"SP2-LVDT_5\"],[1],[0.07261596])\n",
    "SP2.addReleaseCorrection('2023-10-08-17-02-S59.csv',[\"SP2-LVDT_5\"],[1],[-0.07261596])\n",
    "SP4.addReleaseCorrection('2023-10-02-18-05-S54.csv',[\"SP4-HS_25\"],[1],[0.0595])\n",
    "\n",
    "SP4.addReleaseCorrection('2023-07-13-08-51-S23.csv',[\"SP4-HS_25\"],[50],[0.0198])"
   ]
  },
  {
   "cell_type": "markdown",
   "metadata": {},
   "source": [
    "### Read data"
   ]
  },
  {
   "cell_type": "markdown",
   "metadata": {},
   "source": [
    "In this test, there occurred a power shortage between \"2024-04-18 10:25\" and \"2024-04-21 00:00\", which made the temperature fall and affected the creep tendency momentarily. This is not ideal but I think the results will not go to waste and we can use them simply skipping this period of test so the curves don't see a tooth in the middle of their trend"
   ]
  },
  {
   "cell_type": "code",
   "execution_count": 143,
   "metadata": {},
   "outputs": [],
   "source": [
    "experiment.readCreep_Batch(path, 'fileName')"
   ]
  },
  {
   "cell_type": "markdown",
   "metadata": {},
   "source": [
    "# Set beginning of test data"
   ]
  },
  {
   "cell_type": "code",
   "execution_count": 144,
   "metadata": {},
   "outputs": [],
   "source": [
    "SP1.setStartOfTest(datetime.datetime(year=2023, month=6, day=29, hour=11,minute=28, second=25, microsecond=953700))\n",
    "SP2.setStartOfTest(datetime.datetime(year=2023, month=6, day=29, hour=11,minute=31, second=53, microsecond=520810))\n",
    "SP3.setStartOfTest(datetime.datetime(year=2023, month=6, day=29, hour=11,minute=34, second=35, microsecond=191000))\n",
    "SP4.setStartOfTest(datetime.datetime(year=2023, month=6, day=29, hour=11,minute=37, second=17, microsecond=773000))\n",
    "\n",
    "SP1.setStartOfCreep(datetime.datetime(year=2023, month=6, day=29, hour=11,minute=29, second=45, microsecond=953700))\n",
    "SP2.setStartOfCreep(datetime.datetime(year=2023, month=6, day=29, hour=11,minute=33, second=13, microsecond=520810))\n",
    "SP3.setStartOfCreep(datetime.datetime(year=2023, month=6, day=29, hour=11,minute=35, second=55, microsecond=191000))\n",
    "SP4.setStartOfCreep(datetime.datetime(year=2023, month=6, day=29, hour=11,minute=38, second=37, microsecond=773000))"
   ]
  },
  {
   "cell_type": "markdown",
   "metadata": {},
   "source": [
    "# Investigate raw results"
   ]
  },
  {
   "cell_type": "markdown",
   "metadata": {},
   "source": [
    "Analyse individual results"
   ]
  },
  {
   "cell_type": "code",
   "execution_count": 111,
   "metadata": {},
   "outputs": [
    {
     "name": "stderr",
     "output_type": "stream",
     "text": [
      "C:\\Users\\Renan\\AppData\\Local\\Temp\\ipykernel_19484\\2392127203.py:16: RuntimeWarning: invalid value encountered in divide\n",
      "  ax.plot(specimenAnalysed.plotTime, np.array(specimenAnalysed.displacementData[series])/referenceSeries, label=series)\n",
      "C:\\Users\\Renan\\AppData\\Local\\Temp\\ipykernel_19484\\2392127203.py:16: RuntimeWarning: divide by zero encountered in divide\n",
      "  ax.plot(specimenAnalysed.plotTime, np.array(specimenAnalysed.displacementData[series])/referenceSeries, label=series)\n"
     ]
    }
   ],
   "source": [
    "#Piece of code used to see specimen and loading switch data\n",
    "specimenAnalysed=SP3_altered\n",
    "\n",
    "fig,ax = plt.subplots()\n",
    "\n",
    "for idx, series in enumerate(specimenAnalysed.displacementData):\n",
    "    if idx==0:\n",
    "        referenceSeries=np.array(specimenAnalysed.displacementData[series])\n",
    "        mean=np.zeros(len(specimenAnalysed.displacementData[series]))\n",
    "    #deltaTime=SP4.timeData-SP4.timeData[0]\n",
    "    #deltaTime=[time-SP2.timeData[0] for time in SP2.timeData]\n",
    "    #shiftedTimeData=[(value-datetime.timedelta(seconds=specimenAnalysed.creepStartTime)-specimenAnalysed.timeData[0]).total_seconds() for value in specimenAnalysed.timeData]\n",
    "    mean=mean+np.abs(specimenAnalysed.displacementData[series])\n",
    "    #ax.plot(specimenAnalysed.plotTime, np.array(specimenAnalysed.displacementData[series])/(specimenAnalysed.baseLength), label=series)\n",
    "    #ax.plot(specimenAnalysed.plotTime, (1e6)*np.array(specimenAnalysed.displacementData[series])/(specimenAnalysed.baseLength*specimenAnalysed.appliedStress), label=series)\n",
    "    ax.plot(specimenAnalysed.plotTime, np.array(specimenAnalysed.displacementData[series])/referenceSeries, label=series)\n",
    "\n",
    "#ax.plot(specimenAnalysed.plotTime, mean/(3*specimenAnalysed.baseLength), \"--\", label=series[:3]) \n",
    "#ax.plot(specimenAnalysed.plotTime, (1e6)*mean/(3*specimenAnalysed.baseLength*specimenAnalysed.appliedStress), \"--\", label=series[:3]) \n",
    "#ax.plot(specimenAnalysed.plotTime, mean/(3), \"--\", label=series[:3]) \n",
    "\n",
    "#plt.xscale(\"log\")\n",
    "plt.legend()\n",
    "plt.show()"
   ]
  },
  {
   "cell_type": "code",
   "execution_count": 146,
   "metadata": {},
   "outputs": [],
   "source": [
    "#Piece of code used to see specimen and loading switch data\n",
    "specimenAnalysed=SP1\n",
    "\n",
    "fig,ax = plt.subplots()\n",
    "\n",
    "for idx, series in enumerate(specimenAnalysed.displacementData):\n",
    "    if idx==0:\n",
    "        mean=np.zeros(len(specimenAnalysed.displacementData[series]))\n",
    "    #deltaTime=SP4.timeData-SP4.timeData[0]\n",
    "    #deltaTime=[time-SP2.timeData[0] for time in SP2.timeData]\n",
    "    #shiftedTimeData=[(value-datetime.timedelta(seconds=specimenAnalysed.creepStartTime)-specimenAnalysed.timeData[0]).total_seconds() for value in specimenAnalysed.timeData]\n",
    "    mean=mean+np.abs(specimenAnalysed.displacementData[series])/specimenAnalysed.baseLength\n",
    "    #ax.plot(specimenAnalysed.plotTime, (1e6)*np.array(specimenAnalysed.displacementData[series])/(specimenAnalysed.baseLength*specimenAnalysed.appliedStress), label=series)\n",
    "    ax.plot(specimenAnalysed.plotTime, np.array(specimenAnalysed.displacementData[series])/specimenAnalysed.baseLength, label=series)\n",
    "\n",
    "#ax.plot(specimenAnalysed.plotTime, (1e6)*mean/(3*specimenAnalysed.baseLength*specimenAnalysed.appliedStress), \"--\", label=series[:3]) \n",
    "ax.plot(specimenAnalysed.plotTime, mean/(3), \"--\", label=series[:3]) \n",
    "\n",
    "#plt.xscale(\"log\")\n",
    "plt.legend()\n",
    "plt.show()"
   ]
  },
  {
   "cell_type": "markdown",
   "metadata": {},
   "source": [
    "Analyse average results"
   ]
  },
  {
   "cell_type": "code",
   "execution_count": 153,
   "metadata": {},
   "outputs": [],
   "source": [
    "#Piece of code used to see specimen and loading switch data\n",
    "specimenList=[SP1_altered, SP2, SP3_altered, SP4]\n",
    "\n",
    "fig,ax = plt.subplots()\n",
    "shiftY=0\n",
    "shiftX=80\n",
    "for id, specimen in enumerate(specimenList):\n",
    "    specimenAnalysed=specimen\n",
    "\n",
    "\n",
    "    for idx, series in enumerate(specimenAnalysed.displacementData):\n",
    "        if idx==0:\n",
    "            mean=np.zeros(len(specimenAnalysed.displacementData[series]))\n",
    "        #deltaTime=SP4.timeData-SP4.timeData[0]\n",
    "        #deltaTime=[time-SP2.timeData[0] for time in SP2.timeData]\n",
    "        #shiftedTimeData=[(value-datetime.timedelta(seconds=specimenAnalysed.creepStartTime)-specimenAnalysed.timeData[0]).total_seconds() for value in specimenAnalysed.timeData]\n",
    "        mean=mean+np.abs(specimenAnalysed.displacementData[series])\n",
    "        #ax.plot(specimenAnalysed.plotTime, (1e6)*np.array(specimenAnalysed.displacementData[series])/(specimenAnalysed.baseLength*specimenAnalysed.appliedStress), label=series)\n",
    "\n",
    "    if id==2:\n",
    "        shiftY=20-58-10.2+7.18-33+37-9.18-7.18\n",
    "    if id==0:\n",
    "        shiftY=-58+5.91\n",
    "    else:\n",
    "        shiftY=-58\n",
    "    #shiftY=0\n",
    "    ax.plot((np.array(specimenAnalysed.plotTime)-shiftX)/(60*60*24), shiftY+(1e6)*mean/(3*specimenAnalysed.baseLength*specimenAnalysed.appliedStress), \"--\", label=series[:3]) \n",
    "\n",
    "plt.title(\"SP3 and SP1_1 adjusted on the mechanics at early age\")\n",
    "plt.xscale(\"log\")\n",
    "plt.legend()\n",
    "plt.show()"
   ]
  },
  {
   "cell_type": "markdown",
   "metadata": {},
   "source": [
    "### Manual corrections"
   ]
  },
  {
   "cell_type": "markdown",
   "metadata": {},
   "source": [
    "These manual corrections have to be done because intereferences with LVDTs occurred which cannot be solved with the trustness analysis. For example, one of the LVDTs did not move at all, which prevents from builing the trust factor based on a trust region in which the LVDTs worked fine"
   ]
  },
  {
   "cell_type": "code",
   "execution_count": 147,
   "metadata": {},
   "outputs": [],
   "source": [
    "import copy\n",
    "SP3_altered = copy.deepcopy(SP3)\n",
    "SP3_altered.displacementData['SP3-LVDT_9']=[np.mean([0.694*(value1),1.171*value2]) for value1, value2 in zip(SP3_altered.displacementData['SP3-LVDT_7'],SP3_altered.displacementData['SP3-LVDT_10'])]\n",
    "#SP3_altered.displacementData['SP3-LVDT_9']=[(3*(SP3_altered.baseLength)*SP3_altered.appliedStress/Eass)-value1-value2 for value1, value2 in zip(SP3_altered.displacementData['SP3-LVDT_7'],SP3_altered.displacementData['SP3-LVDT_10'])]"
   ]
  },
  {
   "cell_type": "code",
   "execution_count": 148,
   "metadata": {},
   "outputs": [],
   "source": [
    "import copy\n",
    "Eass=20e3\n",
    "SP1_altered = copy.deepcopy(SP1)\n",
    "SP1_altered.displacementData['SP3-LVDT_9']=[np.mean([0.162*(value1),0.157*value2]) for value1, value2 in zip(SP1_altered.displacementData['SP1-LVDT_1A'],SP1_altered.displacementData['SP1-LVDT_2A'])]"
   ]
  },
  {
   "cell_type": "code",
   "execution_count": 151,
   "metadata": {},
   "outputs": [],
   "source": [
    "import copy\n",
    "Eass=20e3\n",
    "SP1_altered_2 = copy.deepcopy(SP1)\n",
    "SP1_altered_2.displacementData['SP3-LVDT_9']=[0.2*(value1+value2) for value1, value2 in zip(SP1_altered.displacementData['SP1-LVDT_1A'],SP1_altered.displacementData['SP1-LVDT_2A'])]"
   ]
  },
  {
   "cell_type": "code",
   "execution_count": 137,
   "metadata": {},
   "outputs": [],
   "source": [
    "SP3.displacementData['SP3-LVDT_9']=[0.57*(value1+value2) for value1, value2 in zip(SP3.displacementData['SP3-LVDT_7'],SP3.displacementData['SP3-LVDT_10'])]\n",
    "SP1.displacementData['SP1-LVDT_4A']=[0.2*(value1+value2) for value1, value2 in zip(SP1.displacementData['SP1-LVDT_1A'],SP1.displacementData['SP1-LVDT_2A'])]\n",
    "#SP4.displacementData['SP4-HS_25']=[1.3*(value1+value2) for value1, value2 in zip(SP4.displacementData['SP4-LVDT_0'],SP4.displacementData['SP4-LVDT_1'])]"
   ]
  },
  {
   "cell_type": "markdown",
   "metadata": {},
   "source": [
    "# Trustness correction"
   ]
  },
  {
   "cell_type": "markdown",
   "metadata": {},
   "source": [
    "This correction is an idea to use only the LVDT lines which we have trust on their measurements. This may allow to savage data from specimens with bad LVDTs that would, otherwise, be thrown in the garbage. Maybe later spcimens can be pondered in the average results by their associated uncertainty (which would definetly allow for penalizing those specimens with fewer LVDTs)."
   ]
  },
  {
   "cell_type": "markdown",
   "metadata": {},
   "source": [
    "The code below performs the thrustness analysis and store the results in a dataframe that gets exported to a xlsx in the end"
   ]
  },
  {
   "cell_type": "markdown",
   "metadata": {},
   "source": [
    "## Average of datapoints in trust interval"
   ]
  },
  {
   "cell_type": "markdown",
   "metadata": {},
   "source": [
    "This is the main method to be used. It computes trust proportions between each measured point in the trusted region, and in the end averages all the proportions to have a single value for correction. It is more recommended because in some way it may consider random variations occurrying in the trust region."
   ]
  },
  {
   "cell_type": "code",
   "execution_count": 7,
   "metadata": {},
   "outputs": [],
   "source": [
    "#THIS VERSION TRIES TO USE AN AVERAGILIZED QUANTITY OF THE TRUST SERIES\n",
    "trustAnalysis=[[specimen.specimenID] for specimen in experiment.testSpecimensList]\n",
    "trustSeries=[[] for specimen in experiment.testSpecimensList]\n",
    "\n",
    "#Here below we need to associate, for each specimen, which LVDTs are thrustworthy (TRUE) and which are not (FALSE)\n",
    "#The order of specimens and LVDT lines follow the same as those in the definiton of experiment object and specimen objects\n",
    "untrustedLinesIndex=[   [True, True,  True],\n",
    "                        [True,  True,  True],\n",
    "                        [True,  True,   True],\n",
    "                        [True,  True,   True]]\n",
    "\n",
    "trustInterval = [[800000],[600000],[600000],[3000000,6000000]]\n",
    "\n",
    "for j, specimenAnalysed in enumerate(experiment.testSpecimensList):\n",
    "    if False not in untrustedLinesIndex[j]:\n",
    "        #Then this line dont need correction, skip it\n",
    "        for line in range(0,3+3+3+1+3+1+1):\n",
    "            trustAnalysis[j].append(None)\n",
    "        trustAnalysis[j].append([None])\n",
    "    else:\n",
    "        keywordTrustfulLines=[]\n",
    "        trustSeries=[]\n",
    "        #Select the interval of the data in which we trust in the creep data\n",
    "        for series in specimenAnalysed.displacementData:\n",
    "            keywordTrustfulLines.append(series)\n",
    "            #deltaTime=SP4.timeData-SP4.timeData[0]\n",
    "            #deltaTime=[time-SP2.timeData[0] for time in SP2.timeData]\n",
    "            shiftedTimeData=[(value-datetime.timedelta(seconds=specimenAnalysed.creepStartTime)-specimenAnalysed.timeData[0]).total_seconds() for value in specimenAnalysed.timeData]\n",
    "            if len(trustInterval[j])==1:\n",
    "                firstIndex=next(i for i,x in enumerate(shiftedTimeData) if x >= 0)\n",
    "                lastIndex=next(i for i,x in enumerate(shiftedTimeData) if x > trustInterval[j][0])\n",
    "            elif len(trustInterval[j])==2:\n",
    "                firstIndex=next(i for i,x in enumerate(shiftedTimeData) if x >= trustInterval[j][0])\n",
    "                lastIndex=next(i for i,x in enumerate(shiftedTimeData) if x > trustInterval[j][1])\n",
    "            else:\n",
    "                print(\"trustInterval variable must be a list of list, with each list either having single element defining the ending time in the trust interval, or two elements defining the start and ending times.\")\n",
    "            trustSeries.append(specimenAnalysed.displacementData[series][firstIndex:lastIndex:10])\n",
    "\n",
    "        #Compute the trust quantities for each point within the trust region\n",
    "        sumTrustSeries=[]\n",
    "        propSumTrustSeries=[]\n",
    "        trustSumFactorSeries=[]\n",
    "        untrustSumFactorSeries=[]\n",
    "        for index, point in enumerate(trustSeries[0]):\n",
    "            propTrustSeries=[]\n",
    "            currentWorkingPoints=[trustSeries[0][index],trustSeries[1][index],trustSeries[2][index]]\n",
    "            #Complete the initialDisp vector\n",
    "            sumTrustSeries.append(np.sum(currentWorkingPoints))\n",
    "            for el in currentWorkingPoints:\n",
    "                propTrustSeries.append(el/sumTrustSeries[index])\n",
    "            propSumTrustSeries.append(np.sum(propTrustSeries))\n",
    "            trustSumFactor=0\n",
    "            untrustSumFactor=[]\n",
    "            for lineIndex in range(0,3):\n",
    "                if untrustedLinesIndex[j][lineIndex] is True:\n",
    "                    trustSumFactor=trustSumFactor+propTrustSeries[lineIndex]\n",
    "                else:\n",
    "                    untrustSumFactor.append(propTrustSeries[lineIndex])\n",
    "            trustSumFactorSeries.append(trustSumFactor)\n",
    "            untrustSumFactorSeries.append(untrustSumFactor)\n",
    "        \n",
    "        #Compute the average of the trust quantities\n",
    "        for line in range(0,3):\n",
    "            trustAnalysis[j].append(untrustedLinesIndex[j][line])\n",
    "        for line in range(0,3):\n",
    "            trustAnalysis[j].append(specimenAnalysed.channelsName[line])\n",
    "        for line in range(0,3):\n",
    "            trustAnalysis[j].append(np.mean(trustSeries[line]))\n",
    "        trustAnalysis[j].append(np.mean(sumTrustSeries))\n",
    "        for line in range(0,3):\n",
    "            trustAnalysis[j].append(np.mean(propTrustSeries[line]))\n",
    "        trustAnalysis[j].append(np.mean(propSumTrustSeries))\n",
    "        trustAnalysis[\n",
    "            j].append(np.mean(trustSumFactorSeries))\n",
    "        tempSeries=[[] for dummy2 in untrustSumFactorSeries[0]]\n",
    "        for k, dummy1 in enumerate(untrustSumFactorSeries[0]):\n",
    "            for n, point in enumerate(untrustSumFactorSeries):\n",
    "                tempSeries[k].append(point[k])\n",
    "        trustAnalysis[j].append([np.mean(untrustSeries) for untrustSeries in tempSeries])\n",
    "\n",
    "df = pd.DataFrame(trustAnalysis, columns=[  'Specimen','L1-trust?', 'L2-trust?', 'L3-trust?',\n",
    "                                            'L1 id', 'L2 id', 'L3 id',\n",
    "                                            'L1-displac.', 'L2-displac.', 'L3-displac.', 'Total-displac.', \n",
    "                                            'Prop1', 'Prop2', 'Prop3', 'TotalProp','TrustSumFactor','UntrustFactors'])\n",
    "\n",
    "df.to_excel(r'C:\\Users\\Renan\\OneDrive\\Renan\\Engenharia Civil\\Ensaios\\230628-CREEP-29_03_AGE-AC_0_4\\03-CODE\\updated_algorithm-20240516\\trustAnalysis_2.xlsx') "
   ]
  },
  {
   "cell_type": "code",
   "execution_count": null,
   "metadata": {},
   "outputs": [],
   "source": [
    "print(\"oi\")"
   ]
  },
  {
   "cell_type": "code",
   "execution_count": null,
   "metadata": {},
   "outputs": [],
   "source": [
    "plt.plot(untrustSumFactorSeries)"
   ]
  },
  {
   "cell_type": "markdown",
   "metadata": {},
   "source": [
    "## Generalized average"
   ]
  },
  {
   "cell_type": "markdown",
   "metadata": {},
   "source": [
    "This is another method, that first averages all the points in the trust interval to calcualte the trust proportions"
   ]
  },
  {
   "cell_type": "code",
   "execution_count": null,
   "metadata": {},
   "outputs": [],
   "source": [
    "#This just takes the mean of the interval\n",
    "trustAnalysis=[[specimen.specimenID] for specimen in experiment.testSpecimensList]\n",
    "\n",
    "#Here below we need to associate, for each specimen, which LVDTs are thrustworthy (TRUE) and which are not (FALSE)\n",
    "#The order of specimens and LVDT lines follow the same as those in the definiton of experiment object and specimen objects\n",
    "untrustedLinesIndex=[[False,   True,   True],\n",
    "                      [True,    False,  True],\n",
    "                      [True,    False,  False],\n",
    "                      [True,    True,   False]]\n",
    "\n",
    "trustInterval = [30000,30000,16000,30000]\n",
    "\n",
    "for j, specimenAnalysed in enumerate(experiment.testSpecimensList):\n",
    "    keywordTrustfulLines=[]\n",
    "\n",
    "    for series in specimenAnalysed.displacementData:\n",
    "        keywordTrustfulLines.append(series)\n",
    "        #deltaTime=SP4.timeData-SP4.timeData[0]\n",
    "        #deltaTime=[time-SP2.timeData[0] for time in SP2.timeData]\n",
    "        shiftedTimeData=[(value-datetime.timedelta(seconds=specimenAnalysed.creepStartTime)-specimenAnalysed.timeData[0]).total_seconds() for value in specimenAnalysed.timeData]\n",
    "        firstIndex=next(i for i,x in enumerate(shiftedTimeData) if x >= 0)\n",
    "        lastIndex=next(i for i,x in enumerate(shiftedTimeData) if x >= trustInterval[j])\n",
    "        trustAnalysis[j].append(np.mean(specimenAnalysed.displacementData[series][firstIndex:lastIndex]))\n",
    "\n",
    "    #Complete the initialDisp vector\n",
    "    trustAnalysis[j].append(np.sum(trustAnalysis[j][1:]))\n",
    "    for el in trustAnalysis[j][1:4]:\n",
    "        trustAnalysis[j].append(el/trustAnalysis[j][4])\n",
    "    trustAnalysis[j].append(np.sum(trustAnalysis[j][5:8]))\n",
    "\n",
    "    #Compute sum factors for thrust lines and unthrusted lines\n",
    "    trustSumFactor=0\n",
    "    untrustSumFactor=[]\n",
    "    for lineIndex in range(0,3):\n",
    "        if untrustedLinesIndex[j][lineIndex] is True:\n",
    "            #Then the current line is thrustful\n",
    "            trustSumFactor=trustSumFactor+trustAnalysis[j][5+lineIndex]\n",
    "        else:\n",
    "            untrustSumFactor.append(trustAnalysis[j][5+lineIndex])\n",
    "    trustAnalysis[j].append(trustSumFactor)\n",
    "    trustAnalysis[j].append(untrustSumFactor)\n",
    "\n",
    "df = pd.DataFrame(trustAnalysis, columns=['Specimen', 'L1-displac.', 'L2-displac.', 'L3-displac.', 'Total-displac.', \n",
    "                                           'Prop1', 'Prop2', 'Prop3', 'TotalProp','TrustSumFactor','UntrustFactors'])\n",
    "\n",
    "df.to_excel(r'C:\\Users\\Renan\\OneDrive\\Renan\\Engenharia Civil\\Ensaios\\240326-CREEP-40C\\03-CODE\\trustAnalysis.xlsx') "
   ]
  },
  {
   "cell_type": "markdown",
   "metadata": {},
   "source": [
    "## Empirical corrections"
   ]
  },
  {
   "cell_type": "markdown",
   "metadata": {},
   "source": [
    "These are the old corrections, much more empirical"
   ]
  },
  {
   "cell_type": "code",
   "execution_count": null,
   "metadata": {},
   "outputs": [],
   "source": [
    "#SP2\n",
    "specimenAnalysed=SP2\n",
    "trustSumIndex=0\n",
    "trustLineIndex=[1,2]\n",
    "\n",
    "trustSumFactor=[0.710697149,0.83089024,0.250535332,0.787567894]\n",
    "untrustFactor=[[0.289302851],[0.16910976],[0.2751606,0.474304069],[0.212432106]]\n",
    "\n",
    "#Get data series\n",
    "keywordTrustfulLines=[]\n",
    "for series in specimenAnalysed.displacementData:\n",
    "    keywordTrustfulLines.append(series)\n",
    "\n",
    "if trustSumIndex == 2:\n",
    "    #Then we are with SP4, which has only one trust line\n",
    "    sumOfLines=[(value1)/trustSumFactor[trustSumIndex] for value1 in specimenAnalysed.displacementData[keywordTrustfulLines[trustLineIndex[0]]]]\n",
    "else:\n",
    "    #All the other specimens have 2 trust lines\n",
    "    sumOfLines=[(value1+value2)/trustSumFactor[trustSumIndex] for value1, value2 in zip(specimenAnalysed.displacementData[keywordTrustfulLines[trustLineIndex[0]]],specimenAnalysed.displacementData[keywordTrustfulLines[trustLineIndex[1]]])]\n",
    "\n",
    "j=0\n",
    "for i in range(3):\n",
    "    if i in trustLineIndex:\n",
    "        pass\n",
    "    else:\n",
    "        specimenAnalysed.displacementData[keywordTrustfulLines[i]]=[value*untrustFactor[trustSumIndex][j] for value in sumOfLines]\n",
    "        j=j+1"
   ]
  },
  {
   "cell_type": "code",
   "execution_count": null,
   "metadata": {},
   "outputs": [],
   "source": [
    "#SP3\n",
    "specimenAnalysed=SP3\n",
    "trustSumIndex=1\n",
    "trustLineIndex=[0,2]\n",
    "\n",
    "trustSumFactor=[0.710697149,0.83089024,0.250535332,0.787567894]\n",
    "untrustFactor=[[0.289302851],[0.16910976],[0.2751606,0.474304069],[0.212432106]]\n",
    "\n",
    "#Get data series\n",
    "keywordTrustfulLines=[]\n",
    "for series in specimenAnalysed.displacementData:\n",
    "    keywordTrustfulLines.append(series)\n",
    "\n",
    "if trustSumIndex == 2:\n",
    "    #Then we are with SP4, which has only one trust line\n",
    "    sumOfLines=[(value1)/trustSumFactor[trustSumIndex] for value1 in specimenAnalysed.displacementData[keywordTrustfulLines[trustLineIndex[0]]]]\n",
    "else:\n",
    "    #All the other specimens have 2 trust lines\n",
    "    sumOfLines=[(value1+value2)/trustSumFactor[trustSumIndex] for value1, value2 in zip(specimenAnalysed.displacementData[keywordTrustfulLines[trustLineIndex[0]]],specimenAnalysed.displacementData[keywordTrustfulLines[trustLineIndex[1]]])]\n",
    "\n",
    "j=0\n",
    "for i in range(3):\n",
    "    if i in trustLineIndex:\n",
    "        pass\n",
    "    else:\n",
    "        specimenAnalysed.displacementData[keywordTrustfulLines[i]]=[value*untrustFactor[trustSumIndex][j] for value in sumOfLines]\n",
    "        j=j+1"
   ]
  },
  {
   "cell_type": "code",
   "execution_count": null,
   "metadata": {},
   "outputs": [],
   "source": [
    "#SP4\n",
    "specimenAnalysed=SP4\n",
    "trustSumIndex=2\n",
    "trustLineIndex=[0]\n",
    "\n",
    "trustSumFactor=[0.710697149,0.83089024,0.250535332,0.787567894]\n",
    "untrustFactor=[[0.289302851],[0.16910976],[0.2751606,0.474304069],[0.212432106]]\n",
    "\n",
    "#Get data series\n",
    "keywordTrustfulLines=[]\n",
    "for series in specimenAnalysed.displacementData:\n",
    "    keywordTrustfulLines.append(series)\n",
    "\n",
    "if trustSumIndex == 2:\n",
    "    #Then we are with SP4, which has only one trust line\n",
    "    sumOfLines=[(value1)/trustSumFactor[trustSumIndex] for value1 in specimenAnalysed.displacementData[keywordTrustfulLines[trustLineIndex[0]]]]\n",
    "else:\n",
    "    #All the other specimens have 2 trust lines\n",
    "    sumOfLines=[(value1+value2)/trustSumFactor[trustSumIndex] for value1, value2 in zip(specimenAnalysed.displacementData[keywordTrustfulLines[trustLineIndex[0]]],specimenAnalysed.displacementData[keywordTrustfulLines[trustLineIndex[1]]])]\n",
    "\n",
    "j=0\n",
    "for i in range(3):\n",
    "    if i in trustLineIndex:\n",
    "        pass\n",
    "    else:\n",
    "        specimenAnalysed.displacementData[keywordTrustfulLines[i]]=[value*untrustFactor[trustSumIndex][j] for value in sumOfLines]\n",
    "        j=j+1"
   ]
  },
  {
   "cell_type": "code",
   "execution_count": null,
   "metadata": {},
   "outputs": [],
   "source": [
    "#SP5\n",
    "specimenAnalysed=SP5\n",
    "trustSumIndex=3\n",
    "trustLineIndex=[0,1]\n",
    "\n",
    "trustSumFactor=[0.710697149,0.83089024,0.250535332,0.787567894]\n",
    "untrustFactor=[[0.289302851],[0.16910976],[0.2751606,0.474304069],[0.212432106]]\n",
    "\n",
    "#Get data series\n",
    "keywordTrustfulLines=[]\n",
    "for series in specimenAnalysed.displacementData:\n",
    "    keywordTrustfulLines.append(series)\n",
    "\n",
    "if trustSumIndex == 2:\n",
    "    #Then we are with SP4, which has only one trust line\n",
    "    sumOfLines=[(value1)/trustSumFactor[trustSumIndex] for value1 in specimenAnalysed.displacementData[keywordTrustfulLines[trustLineIndex[0]]]]\n",
    "else:\n",
    "    #All the other specimens have 2 trust lines\n",
    "    sumOfLines=[(value1+value2)/trustSumFactor[trustSumIndex] for value1, value2 in zip(specimenAnalysed.displacementData[keywordTrustfulLines[trustLineIndex[0]]],specimenAnalysed.displacementData[keywordTrustfulLines[trustLineIndex[1]]])]\n",
    "\n",
    "j=0\n",
    "for i in range(3):\n",
    "    if i in trustLineIndex:\n",
    "        pass\n",
    "    else:\n",
    "        specimenAnalysed.displacementData[keywordTrustfulLines[i]]=[value*untrustFactor[trustSumIndex][j] for value in sumOfLines]\n",
    "        j=j+1"
   ]
  },
  {
   "cell_type": "markdown",
   "metadata": {},
   "source": [
    "# Apply corrections based on the trust analysis"
   ]
  },
  {
   "cell_type": "code",
   "execution_count": 24,
   "metadata": {},
   "outputs": [],
   "source": [
    "for j, specimenAnalysed in enumerate(experiment.testSpecimensList):\n",
    "    #Get data series\n",
    "    keywordTrustfulLines=[]\n",
    "    keywordUntrustfulLines=[]\n",
    "    trustfulLines=[]\n",
    "    sumOfTrustfulLines=[0 for el in list(specimenAnalysed.displacementData.values())[0]]\n",
    "\n",
    "    for i, series in enumerate(specimenAnalysed.displacementData):\n",
    "        if untrustedLinesIndex[j][i] is True:\n",
    "            #keywordTrustfulLines.append(series)\n",
    "            #trustfulLines.append(specimenAnalysed.displacementData[series])\n",
    "            for k, measurement in enumerate(specimenAnalysed.displacementData[series]):\n",
    "                sumOfTrustfulLines[k]=sumOfTrustfulLines[k]+measurement/df.loc[j,'TrustSumFactor']\n",
    "        else:\n",
    "            keywordUntrustfulLines.append(series)\n",
    "\n",
    "    #Now correct the unstrustful lines:\n",
    "    for i, series in enumerate(keywordUntrustfulLines):\n",
    "        specimenAnalysed.displacementData[series]=[value*df.loc[j,'UntrustFactors'][i] for value in sumOfTrustfulLines]\n",
    "    "
   ]
  },
  {
   "cell_type": "markdown",
   "metadata": {},
   "source": [
    "# Conclusions"
   ]
  },
  {
   "attachments": {
    "image-2.png": {
     "image/png": "[encoded data removed]"
    },
    "image-3.png": {
     "image/png": "[encoded data removed]"
    },
    "image.png": {
     "image/png": "[encoded data removed]"
    }
   },
   "cell_type": "markdown",
   "metadata": {},
   "source": [
    "This trust analysis had the following conclusions:\n",
    "\n",
    "1. SP2 does not need any processing. Its LVDT lines indeed behave undesirably and most likely rigid body movements in the aluminum rings occurred, but they appeare to not affect the mean of the measurements and could have been compensate among the different LVDT lines (e.g., while one or two sides descendended, the other rised in such a proportion that when the average was taken the average creep compliance was mantained). This can be observed, for example, between around time 0.2e7 and 0.5e7 on LVDT_5A and LVDT_3A. From 0.2e7, while 3A presented a lowered trend, LVDT5A increased its rate of increase atipically. From 0.5e7, these two trends where interrupted, LVDT5A appeared to return to a steady rate, while LVDT3A appearead to return to its previous rate approximately. This whole time, LVDT5 was much less sensitive to what happened in the other lines.\n",
    "\n",
    "![image-2.png](attachment:image-2.png)\n",
    "\n",
    "2. SP4 is affected by issues beyond repair from 6e6 seconds onwards. From this time onwards, HS_25 and LVDT_1 present a sharp decrease which seems to be partly compensated by LVDT_0, but upon closer inspection there is no clear indication on what is the mechanism underlining the behaviour of their measurements. Any attempts for corrections would suffer from lack of objectiveness. Many were attempted like eliminating HS_25 line and working with just the trends from the other two lines, but no success was achieved.\n",
    "\n",
    "![image.png](attachment:image.png)\n",
    "\n",
    "3. SP3 has one line that did not move at all. It was verified that the LVDT piston got stucked and never moved during testing. It is strange because in the beginning this really makes the compliance start at a lower level, as if the specimen was many times stiffer than the rest of the specimens. However, at higher ages, the mean compliance equalizes the rest of the specimens, both in terms of rate and value. This can only be explained if the immobile LVDT, if working, would actually measure something in the first part of the test but would progressively decrease its contribution until reaching zero. We can also compute some correction, as we did in SP1 to consider the imovable line there so it matched the initial elastic modulus, but if we do so, the compliance gets a little larger. However, I think it is the most appropriate methodology, to perform the correction based on the mechanics of the distribution of the force in both SP3 and SP1, and try to use the result as is.\n",
    "\n",
    "![image-3.png](attachment:image-3.png)\n",
    "\n",
    "4. It suffers the same issue of SP1 and the same approach to solve it will be taken."
   ]
  }
 ],
 "metadata": {
  "kernelspec": {
   "display_name": "Python 3",
   "language": "python",
   "name": "python3"
  },
  "language_info": {
   "codemirror_mode": {
    "name": "ipython",
    "version": 3
   },
   "file_extension": ".py",
   "mimetype": "text/x-python",
   "name": "python",
   "nbconvert_exporter": "python",
   "pygments_lexer": "ipython3",
   "version": "3.12.3"
  }
 },
 "nbformat": 4,
 "nbformat_minor": 2
}
