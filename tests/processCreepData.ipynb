{
 "cells": [
  {
   "cell_type": "code",
   "execution_count": null,
   "metadata": {},
   "outputs": [],
   "source": [
    "#Import library\n",
    "%matplotlib qt\n",
    "import numpy as np\n",
    "import staticCreepModule as creeplib\n",
    "import matplotlib.pyplot as plt\n",
    "import pandas as pd\n",
    "import datetime "
   ]
  },
  {
   "cell_type": "markdown",
   "metadata": {},
   "source": [
    "# Input parameters"
   ]
  },
  {
   "cell_type": "code",
   "execution_count": null,
   "metadata": {},
   "outputs": [],
   "source": [
    "#Configurations of how to process data\n",
    "setOfSpecimens=1\n",
    "deriveLVDT=True\n",
    "timeInspection=False"
   ]
  },
  {
   "cell_type": "markdown",
   "metadata": {},
   "source": [
    "# Initial functions"
   ]
  },
  {
   "cell_type": "markdown",
   "metadata": {},
   "source": [
    "Get the path of the test results"
   ]
  },
  {
   "cell_type": "code",
   "execution_count": null,
   "metadata": {},
   "outputs": [],
   "source": [
    "# Get path of the folder containing the test results\n",
    "from tkinter.filedialog import askopenfilename, askdirectory\n",
    "from tkinter import Tk\n",
    "import os\n",
    "root = Tk().withdraw()\n",
    "path = askdirectory()\n",
    "Tk().destroy()"
   ]
  },
  {
   "cell_type": "markdown",
   "metadata": {},
   "source": [
    "General data"
   ]
  },
  {
   "cell_type": "code",
   "execution_count": null,
   "metadata": {},
   "outputs": [],
   "source": [
    "'''\n",
    "GENERAL INFO ABOUT THE TEST\n",
    "----------------------------------------------------------------------------\n",
    "SPECIMEN    BATCH   SYSTEM          LVDTS       BASE_LENGTH(MM)     APPLIED_STRESS(MPA)\n",
    "----------------------------------------------------------------------------\n",
    "SP1                 inegi        5,4,7       65.04667        8.47083\n",
    "SP2                 inegi        9,8,6       57.63667        9.56737\n",
    "SP3                 inegi        10,11,3       56.47667        9.66956\n",
    "SP4                 inegi        1,2,0       56.50667           8.59628\n",
    "----------------------------------------------------------------------------\n",
    "'''\n",
    "#Instantiate test specimens data\n",
    "SP1=creeplib.testSpecimen(\"SP1\",'inegi',[6,5,8],65.04667, 8.47083, [\"SP1-LVDT_2A\",\"SP1-LVDT_1A\",\"SP1-LVDT_4A\"], [(1,0,0),(1,0.40,0.40),(1,0.70,0.70)],['-','--','-.'])\n",
    "SP2=creeplib.testSpecimen(\"SP2\",'inegi',[10,9,7],57.63667, 9.56737,  [\"SP2-LVDT_5A\",\"SP2-LVDT_5\",\"SP2-LVDT_3A\"],[(0,0,0),(0.2,0.20,0.20),(0.70,0.70,0.70)],['-','--','-.'])\n",
    "SP3=creeplib.testSpecimen(\"SP3\",'inegi',[11,12,4],56.47667, 9.66956, [\"SP3-LVDT_7\",\"SP3-LVDT_9\",\"SP3-LVDT_10\"], [(0,1,1),(0.2,1,1),(0.4,1,1)],['-','--','-.'])\n",
    "SP4=creeplib.testSpecimen(\"SP4\",'inegi',[2,3,1],56.50667, 8.59628, [\"SP4-LVDT_0\",\"SP4-LVDT_1\",\"SP4-HS_25\"], [(1,1,1),(0.95,1,1),(0.90,1,1)],['-','--','-.'])\n",
    "#Instasntiate load cell data\n",
    "loadCellInterface=creeplib.loadCell(\"Interface-LC\", 'inegi', 13, (1,0,0), '--')\n",
    "#Instantiate loading switch data\n",
    "loadingSwitch=creeplib.loadingSwitch()"
   ]
  },
  {
   "cell_type": "code",
   "execution_count": null,
   "metadata": {},
   "outputs": [],
   "source": [
    "#Option 1:\n",
    "if setOfSpecimens==0:\n",
    "    experiment = creeplib.experiment([SP1,SP2,SP3,SP4],[loadCellInterface],loadingSwitch)\n",
    "elif setOfSpecimens==1:\n",
    "    experiment = creeplib.experiment([SP1,SP2,SP4],[loadCellInterface],loadingSwitch, numberOfActiveChannels=13)\n",
    "elif setOfSpecimens==2:\n",
    "    experiment = creeplib.experiment([SP2,SP4],[loadCellInterface],loadingSwitch, numberOfActiveChannels=13)\n",
    "elif setOfSpecimens==3:\n",
    "    experiment = creeplib.experiment([SP3,SP2,SP4],[loadCellInterface],loadingSwitch, numberOfActiveChannels=13)\n",
    "elif setOfSpecimens==4:\n",
    "    experiment = creeplib.experiment([SP1,SP2,SP3],[loadCellInterface],loadingSwitch, numberOfActiveChannels=13)\n"
   ]
  },
  {
   "cell_type": "markdown",
   "metadata": {},
   "source": [
    "Handle release and slip corrections in LVDT and ring"
   ]
  },
  {
   "cell_type": "code",
   "execution_count": null,
   "metadata": {},
   "outputs": [],
   "source": [
    "#Deal with sudden releases occured in the LVDTs, when they get unstucked\n",
    "#For line number, subtract 25 from the line number in Excel - this means subtracting the entire header of the file, counting from the first line of acquired data\n",
    "#Remeber that if, for a given specimen, more than 1 LVDT line needs correction per file, than they all should be stated in the same method call\n",
    "#This framework is probably not prepared if more than 1 correction per file is needed. If such case happens, we need to reimplement some things\n",
    "\n",
    "SP2.addReleaseCorrection('2023-07-17-12-42-S26.csv',[\"SP2-LVDT_5\"],[547],[-0.16647228])\n",
    "SP2.addReleaseCorrection('2023-07-24-20-02-S31.csv',[\"SP2-LVDT_5\"],[233],[0.17222328])\n",
    "\n",
    "SP2.addReleaseCorrection('2023-08-02-08-47-S36.csv',[\"SP2-LVDT_5\"],[1391],[-0.16036344])\n",
    "SP2.addReleaseCorrection('2023-10-02-18-05-S54.csv',[\"SP2-LVDT_5\"],[1],[0.07261596])\n",
    "SP2.addReleaseCorrection('2023-10-08-17-02-S59.csv',[\"SP2-LVDT_5\"],[1],[-0.07261596])\n",
    "SP4.addReleaseCorrection('2023-10-02-18-05-S54.csv',[\"SP4-HS_25\"],[1],[0.0595])\n",
    "\n",
    "SP4.addReleaseCorrection('2023-07-13-08-51-S23.csv',[\"SP4-HS_25\"],[50],[0.0198])"
   ]
  },
  {
   "cell_type": "markdown",
   "metadata": {},
   "source": [
    "### Read data"
   ]
  },
  {
   "cell_type": "markdown",
   "metadata": {},
   "source": [
    "In this test, there occurred a power shortage between \"2024-04-18 10:25\" and \"2024-04-21 00:00\", which made the temperature fall and affected the creep tendency momentarily. This is not ideal but I think the results will not go to waste and we can use them simply skipping this period of test so the curves don't see a tooth in the middle of their trend"
   ]
  },
  {
   "cell_type": "code",
   "execution_count": null,
   "metadata": {},
   "outputs": [],
   "source": [
    "experiment.readCreep_Batch(path, 'fileName')"
   ]
  },
  {
   "cell_type": "markdown",
   "metadata": {},
   "source": [
    "# Set beginning of test data"
   ]
  },
  {
   "cell_type": "markdown",
   "metadata": {},
   "source": [
    "## Description"
   ]
  },
  {
   "cell_type": "markdown",
   "metadata": {},
   "source": [
    "To get the information required in the .setStartOfCreep methods below, use the Jupyter notebook timeStampAnalysis"
   ]
  },
  {
   "cell_type": "markdown",
   "metadata": {},
   "source": [
    "## Time-stamp the experimental data"
   ]
  },
  {
   "cell_type": "markdown",
   "metadata": {},
   "source": [
    "SP5 1009.862\n",
    "SP2 218.832\n",
    "SP3 857.628\n",
    "SP4 392.78"
   ]
  },
  {
   "cell_type": "code",
   "execution_count": null,
   "metadata": {},
   "outputs": [],
   "source": [
    "\n",
    "#Set beginning of test data\n",
    "if setOfSpecimens==0:\n",
    "    '''\n",
    "    #These were the original times used\n",
    "    SP1.setStartOfTest(datetime(year=2023, month=6, day=29, hour=11,minute=29, second=5))\n",
    "    SP2.setStartOfTest(datetime(year=2023, month=6, day=29, hour=11,minute=32, second=34))\n",
    "    SP3.setStartOfTest(datetime(year=2023, month=6, day=29, hour=11,minute=35, second=15))\n",
    "    SP4.setStartOfTest(datetime(year=2023, month=6, day=29, hour=11,minute=38, second=11))\n",
    "    '''\n",
    "    '''\n",
    "    #These were the times used to compare against loading switch\n",
    "    SP1.setStartOfTest(datetime.datetime(year=2023, month=6, day=29, hour=11,minute=27, second=0))\n",
    "    SP2.setStartOfTest(datetime.datetime(year=2023, month=6, day=29, hour=11,minute=27, second=0))\n",
    "    SP3.setStartOfTest(datetime.datetime(year=2023, month=6, day=29, hour=11,minute=27, second=0))\n",
    "    SP4.setStartOfTest(datetime.datetime(year=2023, month=6, day=29, hour=11,minute=38, second=0))\n",
    "    '''\n",
    "    #These are the final times used to plot (30 seconds after the full load identified from loading switch times)\n",
    "    SP1.setStartOfTest(datetime.datetime(year=2023, month=6, day=29, hour=11,minute=28, second=25, microsecond=953700))\n",
    "    SP2.setStartOfTest(datetime.datetime(year=2023, month=6, day=29, hour=11,minute=31, second=53, microsecond=520810))\n",
    "    SP3.setStartOfTest(datetime.datetime(year=2023, month=6, day=29, hour=11,minute=34, second=35, microsecond=191000))\n",
    "    SP4.setStartOfTest(datetime.datetime(year=2023, month=6, day=29, hour=11,minute=37, second=17, microsecond=773000))\n",
    "\n",
    "    SP1.setStartOfCreep(datetime.datetime(year=2023, month=6, day=29, hour=11,minute=29, second=45, microsecond=953700))\n",
    "    SP2.setStartOfCreep(datetime.datetime(year=2023, month=6, day=29, hour=11,minute=33, second=13, microsecond=520810))\n",
    "    SP3.setStartOfCreep(datetime.datetime(year=2023, month=6, day=29, hour=11,minute=35, second=55, microsecond=191000))\n",
    "    SP4.setStartOfCreep(datetime.datetime(year=2023, month=6, day=29, hour=11,minute=38, second=37, microsecond=773000))\n",
    "elif setOfSpecimens==1:\n",
    "    SP1.setStartOfTest(datetime.datetime(year=2023, month=6, day=29, hour=11,minute=28, second=25, microsecond=953700))\n",
    "    SP2.setStartOfTest(datetime.datetime(year=2023, month=6, day=29, hour=11,minute=31, second=53, microsecond=520810))\n",
    "    SP4.setStartOfTest(datetime.datetime(year=2023, month=6, day=29, hour=11,minute=37, second=17, microsecond=773000))\n",
    "\n",
    "    SP1.setStartOfCreep(datetime.datetime(year=2023, month=6, day=29, hour=11,minute=29, second=45, microsecond=953700))\n",
    "    SP2.setStartOfCreep(datetime.datetime(year=2023, month=6, day=29, hour=11,minute=33, second=13, microsecond=520810))\n",
    "    SP4.setStartOfCreep(datetime.datetime(year=2023, month=6, day=29, hour=11,minute=38, second=37, microsecond=773000))\n",
    "elif setOfSpecimens==2:\n",
    "    SP2.setStartOfTest(datetime.datetime(year=2023, month=6, day=29, hour=11,minute=31, second=53, microsecond=520810))\n",
    "    SP4.setStartOfTest(datetime.datetime(year=2023, month=6, day=29, hour=11,minute=37, second=17, microsecond=773000))\n",
    "\n",
    "    SP2.setStartOfCreep(datetime.datetime(year=2023, month=6, day=29, hour=11,minute=33, second=13, microsecond=520810))\n",
    "    SP4.setStartOfCreep(datetime.datetime(year=2023, month=6, day=29, hour=11,minute=38, second=37, microsecond=773000))\n",
    "elif setOfSpecimens==3:\n",
    "    SP2.setStartOfTest(datetime.datetime(year=2023, month=6, day=29, hour=11,minute=31, second=53, microsecond=520810))\n",
    "    SP3.setStartOfTest(datetime.datetime(year=2023, month=6, day=29, hour=11,minute=34, second=35, microsecond=191000))\n",
    "    SP4.setStartOfTest(datetime.datetime(year=2023, month=6, day=29, hour=11,minute=37, second=17, microsecond=773000))\n",
    "\n",
    "    SP2.setStartOfCreep(datetime.datetime(year=2023, month=6, day=29, hour=11,minute=33, second=13, microsecond=520810))\n",
    "    SP3.setStartOfCreep(datetime.datetime(year=2023, month=6, day=29, hour=11,minute=35, second=55, microsecond=191000))\n",
    "    SP4.setStartOfCreep(datetime.datetime(year=2023, month=6, day=29, hour=11,minute=38, second=37, microsecond=773000))\n",
    "elif setOfSpecimens==4:\n",
    "    SP1.setStartOfTest(datetime.datetime(year=2023, month=6, day=29, hour=11,minute=28, second=25, microsecond=953700))\n",
    "    SP2.setStartOfTest(datetime.datetime(year=2023, month=6, day=29, hour=11,minute=31, second=53, microsecond=520810))\n",
    "    SP3.setStartOfTest(datetime.datetime(year=2023, month=6, day=29, hour=11,minute=34, second=35, microsecond=191000))\n",
    "\n",
    "    SP1.setStartOfCreep(datetime.datetime(year=2023, month=6, day=29, hour=11,minute=29, second=45, microsecond=953700))\n",
    "    SP2.setStartOfCreep(datetime.datetime(year=2023, month=6, day=29, hour=11,minute=33, second=13, microsecond=520810))\n",
    "    SP3.setStartOfCreep(datetime.datetime(year=2023, month=6, day=29, hour=11,minute=35, second=55, microsecond=191000))\n",
    "\n",
    "loadingSwitch.addOffset(datetime.datetime(year=2023, month=6, day=29, hour=11,minute=27, second=10, microsecond=559856),datetime.timedelta(seconds=56, microseconds=661484))\n"
   ]
  },
  {
   "cell_type": "markdown",
   "metadata": {},
   "source": [
    "# Trustness correction"
   ]
  },
  {
   "cell_type": "markdown",
   "metadata": {},
   "source": [
    "This correction is an idea to use only the LVDT lines which we have trust on their measurements. This may allow to savage data from specimens with bad LVDTs that would, otherwise, be thrown in the garbage. Maybe later spcimens can be pondered in the average results by their associated uncertainty (which would definetly allow for penalizing those specimens with fewer LVDTs)."
   ]
  },
  {
   "cell_type": "markdown",
   "metadata": {},
   "source": [
    "The code below performs the thrustness analysis and store the results in a dataframe that gets exported to a xlsx in the end"
   ]
  },
  {
   "cell_type": "markdown",
   "metadata": {},
   "source": [
    "Manual correction"
   ]
  },
  {
   "cell_type": "code",
   "execution_count": null,
   "metadata": {},
   "outputs": [],
   "source": [
    "#SP3.displacementData['SP3-LVDT_9']=[0.57*(value1+value2) for value1, value2 in zip(SP3.displacementData['SP3-LVDT_7'],SP3.displacementData['SP3-LVDT_10'])]\n",
    "#SP1.displacementData['SP1-LVDT_4A']=[0.2*(value1+value2) for value1, value2 in zip(SP1.displacementData['SP1-LVDT_1A'],SP1.displacementData['SP1-LVDT_2A'])]\n",
    "SP3.displacementData['SP3-LVDT_9']=[np.mean([0.694*(value1),1.171*value2]) for value1, value2 in zip(SP3.displacementData['SP3-LVDT_7'],SP3.displacementData['SP3-LVDT_10'])]\n",
    "SP1.displacementData['SP1-LVDT_4A']=[np.mean([0.162*(value1),0.157*value2]) for value1, value2 in zip(SP1.displacementData['SP1-LVDT_1A'],SP1.displacementData['SP1-LVDT_2A'])]"
   ]
  },
  {
   "cell_type": "markdown",
   "metadata": {},
   "source": [
    "Make the corrections based on the trust analysis (this series does not have trust corrections)"
   ]
  },
  {
   "cell_type": "code",
   "execution_count": null,
   "metadata": {},
   "outputs": [],
   "source": [
    "# Get path of the folder containing the test results\n",
    "\n",
    "performCorrection = False\n",
    "\n",
    "if performCorrection is True:\n",
    "    from tkinter.filedialog import askopenfilename, askdirectory\n",
    "    from tkinter import Tk\n",
    "    import os\n",
    "    import pandas as pd\n",
    "    window = Tk()\n",
    "    window.wm_attributes('-topmost', 1)\n",
    "    window.withdraw()   # this supress the tk window\n",
    "    correctionPathFile = askopenfilename(parent=window, title=\"Open file of loading switch\")\n",
    "    Tk().destroy()\n",
    "\n",
    "    trustCorrectionParameters=pd.read_excel(correctionPathFile)\n",
    "    untrustedLinesIndex=trustCorrectionParameters.loc[:, 'L1-trust?':'L3-trust?'].values.tolist()\n",
    "\n",
    "    for j, specimenAnalysed in enumerate(experiment.testSpecimensList):\n",
    "        #Get data series\n",
    "        keywordTrustfulLines=[]\n",
    "        keywordUntrustfulLines=[]\n",
    "        trustfulLines=[]\n",
    "        sumOfTrustfulLines=[0 for el in list(specimenAnalysed.displacementData.values())[0]]\n",
    "\n",
    "        for i, series in enumerate(specimenAnalysed.displacementData):\n",
    "            if untrustedLinesIndex[j][i] is True or untrustedLinesIndex[j][i]==1.0:\n",
    "                #keywordTrustfulLines.append(series)\n",
    "                #trustfulLines.append(specimenAnalysed.displacementData[series])\n",
    "                for k, measurement in enumerate(specimenAnalysed.displacementData[series]):\n",
    "                    sumOfTrustfulLines[k]=sumOfTrustfulLines[k]+measurement/trustCorrectionParameters.loc[j,'TrustSumFactor']\n",
    "            elif untrustedLinesIndex[j][i] is False or untrustedLinesIndex[j][i]==0.0:\n",
    "                keywordUntrustfulLines.append(series)\n",
    "            else:\n",
    "                continue #No corrections should be applied\n",
    "\n",
    "        #Now correct the unstrustful lines:\n",
    "        #First extract the string representation from the dataframe and transform it in a list of floats\n",
    "        s=trustCorrectionParameters.loc[j,'UntrustFactors']\n",
    "        elements = s.strip('[]').split(', ')\n",
    "        if elements[0]==\"None\":\n",
    "            continue\n",
    "        # Convert each element to float\n",
    "        untrustFactors=list(map(float, elements))\n",
    "        for i, series in enumerate(keywordUntrustfulLines):\n",
    "            specimenAnalysed.displacementData[series]=[value*untrustFactors[i] for value in sumOfTrustfulLines]"
   ]
  },
  {
   "cell_type": "markdown",
   "metadata": {},
   "source": [
    "# Compute the information of creep"
   ]
  },
  {
   "cell_type": "code",
   "execution_count": null,
   "metadata": {},
   "outputs": [],
   "source": [
    "experiment.computeCompliances()\n",
    "experiment.computeSpecificCreep()\n",
    "experiment.computeStatisticalMeasures()"
   ]
  },
  {
   "cell_type": "markdown",
   "metadata": {},
   "source": [
    "Save data in csv files"
   ]
  },
  {
   "cell_type": "markdown",
   "metadata": {},
   "source": [
    "Plot graphs"
   ]
  },
  {
   "cell_type": "code",
   "execution_count": null,
   "metadata": {},
   "outputs": [],
   "source": [
    "experiment.pltAverageSpecificCreep(logScale = True, specimenResults=True)"
   ]
  },
  {
   "cell_type": "code",
   "execution_count": null,
   "metadata": {},
   "outputs": [],
   "source": [
    "experiment.pltAverageCompliance(logScale = True, specimenResults=True)"
   ]
  },
  {
   "cell_type": "code",
   "execution_count": null,
   "metadata": {},
   "outputs": [],
   "source": [
    "experiment.pltDisplacementData(logScale = True)"
   ]
  },
  {
   "cell_type": "code",
   "execution_count": null,
   "metadata": {},
   "outputs": [],
   "source": [
    "experiment.pltSpecimenSpecificCreep(logScale = True)"
   ]
  },
  {
   "cell_type": "code",
   "execution_count": null,
   "metadata": {},
   "outputs": [],
   "source": [
    "experiment.pltCoefficientOfVariationSpecificCreep()"
   ]
  },
  {
   "cell_type": "code",
   "execution_count": null,
   "metadata": {},
   "outputs": [],
   "source": [
    "experiment.plotInterpolatedComplianceData(logScale=True)"
   ]
  },
  {
   "cell_type": "code",
   "execution_count": null,
   "metadata": {},
   "outputs": [],
   "source": [
    "from tkinter.filedialog import asksaveasfile\n",
    "from tkinter import Tk\n",
    "import os\n",
    "import pandas as pd\n",
    "window = Tk()\n",
    "window.wm_attributes('-topmost', 1)\n",
    "window.withdraw()   # this supress the tk window\n",
    "savePickleFilePath = asksaveasfile(parent=window, title=\"Open file of loading switch\")\n",
    "Tk().destroy()\n",
    "\n",
    "experiment.saveExperimentObject(savePickleFilePath.name)"
   ]
  },
  {
   "cell_type": "code",
   "execution_count": null,
   "metadata": {},
   "outputs": [],
   "source": [
    "import pickle\n",
    "\n",
    "output = open(savePickleFilePath.name, 'wb')\n",
    "# Pickle dictionary using protocol 0.\n",
    "pickle.dump(experiment, output)\n",
    "output.close()"
   ]
  },
  {
   "cell_type": "markdown",
   "metadata": {},
   "source": [
    "Customized graphs"
   ]
  },
  {
   "cell_type": "code",
   "execution_count": null,
   "metadata": {},
   "outputs": [],
   "source": [
    "#Piece of code used to see specimen and loading switch data\n",
    "specimenAnalysed=SP4\n",
    "fig,ax = plt.subplots()\n",
    "\n",
    "for series in specimenAnalysed.displacementData:\n",
    "    #deltaTime=SP4.timeData-SP4.timeData[0]\n",
    "    #deltaTime=[time-SP2.timeData[0] for time in SP2.timeData]\n",
    "    #shiftedTimeData=[(value-datetime.timedelta(seconds=specimenAnalysed.creepStartTime)-specimenAnalysed.timeData[0]).total_seconds() for value in specimenAnalysed.timeData]\n",
    "    ax.plot(specimenAnalysed.plotTime, specimenAnalysed.displacementData[series], label=series)\n",
    "\n",
    "#plt.xscale(\"log\")\n",
    "plt.legend()\n",
    "plt.show()"
   ]
  },
  {
   "cell_type": "code",
   "execution_count": null,
   "metadata": {},
   "outputs": [],
   "source": [
    "#Piece of code used to see specimen and loading switch data\n",
    "specimenAnalysed=SP5\n",
    "fig,ax = plt.subplots()\n",
    "keywordTrustfulLines=[]\n",
    "for series in specimenAnalysed.displacementData:\n",
    "    keywordTrustfulLines.append(series)\n",
    "    #deltaTime=SP4.timeData-SP4.timeData[0]\n",
    "    #deltaTime=[time-SP2.timeData[0] for time in SP2.timeData]\n",
    "\n",
    "zeroOneRatio=[]\n",
    "for value1, value2 in zip(specimenAnalysed.displacementData[keywordTrustfulLines[0]],specimenAnalysed.displacementData[keywordTrustfulLines[1]]):\n",
    "    try:\n",
    "        value=value1/value2\n",
    "    except:\n",
    "        value=0\n",
    "    zeroOneRatio.append(value)\n",
    "zeroTwoRatio=[]\n",
    "for value1, value2 in zip(specimenAnalysed.displacementData[keywordTrustfulLines[0]],specimenAnalysed.displacementData[keywordTrustfulLines[2]]):\n",
    "    try:\n",
    "        value=value1/value2\n",
    "    except:\n",
    "        value=0\n",
    "    zeroTwoRatio.append(value)\n",
    "oneTwoRatio=[]\n",
    "for value1, value2 in zip(specimenAnalysed.displacementData[keywordTrustfulLines[1]],specimenAnalysed.displacementData[keywordTrustfulLines[2]]):\n",
    "    try:\n",
    "        value=value1/value2\n",
    "    except:\n",
    "        value=0\n",
    "    oneTwoRatio.append(value)\n",
    "\n",
    "ax.plot(specimenAnalysed.timeData, zeroOneRatio, label=f\"{keywordTrustfulLines[0]}/{keywordTrustfulLines[1]}\")\n",
    "ax.plot(specimenAnalysed.timeData, zeroTwoRatio, label=f\"{keywordTrustfulLines[0]}/{keywordTrustfulLines[2]}\")\n",
    "ax.plot(specimenAnalysed.timeData, oneTwoRatio, label=f\"{keywordTrustfulLines[1]}/{keywordTrustfulLines[2]}\")\n",
    "plt.legend()\n",
    "plt.show() "
   ]
  },
  {
   "cell_type": "code",
   "execution_count": null,
   "metadata": {},
   "outputs": [],
   "source": [
    "#Piece of code used to see specimen and loading switch data\n",
    "specimenAnalysed=SP2\n",
    "fig,ax = plt.subplots()\n",
    "\n",
    "for series in specimenAnalysed.displacementData:\n",
    "    keywordTrustfulLines.append(series)\n",
    "    #deltaTime=SP4.timeData-SP4.timeData[0]\n",
    "    #deltaTime=[time-SP2.timeData[0] for time in SP2.timeData]\n",
    "    #shiftedTimeData=[(value-datetime.timedelta(seconds=specimenAnalysed.creepStartTime)-specimenAnalysed.timeData[0]).total_seconds() for value in specimenAnalysed.timeData]\n",
    "    ax.plot(specimenAnalysed.plotTime, specimenAnalysed.displacementData[series], label=series)\n",
    "\n",
    "#plt.xscale(\"log\")\n",
    "plt.legend()\n",
    "plt.show()"
   ]
  },
  {
   "cell_type": "code",
   "execution_count": null,
   "metadata": {},
   "outputs": [],
   "source": [
    "#Piece of code used to see specimen and loading switch data\n",
    "specimenAnalysed=SP3\n",
    "fig,ax = plt.subplots()\n",
    "\n",
    "for series in specimenAnalysed.displacementData:\n",
    "    keywordTrustfulLines.append(series)\n",
    "    #deltaTime=SP4.timeData-SP4.timeData[0]\n",
    "    #deltaTime=[time-SP2.timeData[0] for time in SP2.timeData]\n",
    "    shiftedTimeData=[(value-datetime.timedelta(seconds=specimenAnalysed.creepStartTime)-specimenAnalysed.timeData[0]).total_seconds() for value in specimenAnalysed.timeData]\n",
    "    ax.plot(shiftedTimeData, specimenAnalysed.displacementData[series], label=series)\n",
    "    #ax.plot(specimenAnalysed.plotTime, specimenAnalysed.displacementData[series], label=series)\n",
    "\n",
    "#plt.xscale(\"log\")\n",
    "plt.legend()\n",
    "plt.show()\n"
   ]
  },
  {
   "cell_type": "markdown",
   "metadata": {},
   "source": [
    "Try to correct specimen data by ensuring initial proportions from initial displacements remain constant during the creep test. For this, first the proportions between LVDT readings at the beginning of test are calculated (ex. LVDT1 represents 30% of the total sum of displacements). Then, trustyworth LVDT lines for each specimen are selected after visual inspection. The trustyworth lines will be used to estimate the total sum of displacement, and the untrustworthy lines will be substitute by their respective estimation based on the initial proportion of displacmeents."
   ]
  },
  {
   "cell_type": "code",
   "execution_count": null,
   "metadata": {},
   "outputs": [],
   "source": [
    "#Piece of code used to see specimen and loading switch data\n",
    "specimenAnalysed=SP5\n",
    "trustSumIndex=3\n",
    "trustLineIndex=[0,1]\n",
    "\n",
    "trustSumFactor=[0.710697149,0.83089024,0.250535332,0.787567894]\n",
    "untrustFactor=[[0.289302851],[0.16910976],[0.2751606,0.474304069],[0.212432106]]\n",
    "\n",
    "\n",
    "fig,ax = plt.subplots()\n",
    "keywordTrustfulLines=[]\n",
    "for series in specimenAnalysed.displacementData:\n",
    "    keywordTrustfulLines.append(series)\n",
    "    #deltaTime=SP4.timeData-SP4.timeData[0]\n",
    "    #deltaTime=[time-SP2.timeData[0] for time in SP2.timeData]\n",
    "\n",
    "if trustSumIndex == 2:\n",
    "    #Then we are with SP4, which has only one trust line\n",
    "    sumOfLines=[(value1)/trustSumFactor[trustSumIndex] for value1 in specimenAnalysed.displacementData[keywordTrustfulLines[trustLineIndex[0]]]]\n",
    "else:\n",
    "    #All the other specimens have 2 trust lines\n",
    "    sumOfLines=[(value1+value2)/trustSumFactor[trustSumIndex] for value1, value2 in zip(specimenAnalysed.displacementData[keywordTrustfulLines[trustLineIndex[0]]],specimenAnalysed.displacementData[keywordTrustfulLines[trustLineIndex[1]]])]\n",
    "\n",
    "j=0\n",
    "for i in range(3):\n",
    "    if i in trustLineIndex:\n",
    "        ax.plot(specimenAnalysed.timeData, specimenAnalysed.displacementData[keywordTrustfulLines[i]], label=keywordTrustfulLines[i])\n",
    "    else:\n",
    "        print(j)\n",
    "        ax.plot(specimenAnalysed.timeData, [value*untrustFactor[trustSumIndex][j] for value in sumOfLines], label=keywordTrustfulLines[i])\n",
    "        j=j+1\n",
    "plt.legend()\n",
    "plt.show()"
   ]
  },
  {
   "cell_type": "markdown",
   "metadata": {},
   "source": [
    "Save data in csv files"
   ]
  },
  {
   "cell_type": "code",
   "execution_count": null,
   "metadata": {},
   "outputs": [],
   "source": [
    "# Get path of the folder containing the test results\n",
    "from tkinter.filedialog import askopenfilename, askdirectory\n",
    "from tkinter import Tk\n",
    "import os\n",
    "root = Tk().withdraw()\n",
    "path = askdirectory()\n",
    "Tk().destroy()\n",
    "experiment.saveAverageDisplacementData(path+r'/averageDisplacement')\n",
    "experiment.saveAverageCompliance(path+r'/averageCompliance')\n",
    "experiment.saveAverageSpecificCreep(path+r'/specificCompliance')"
   ]
  }
 ],
 "metadata": {
  "kernelspec": {
   "display_name": "Python 3",
   "language": "python",
   "name": "python3"
  },
  "language_info": {
   "codemirror_mode": {
    "name": "ipython",
    "version": 3
   },
   "file_extension": ".py",
   "mimetype": "text/x-python",
   "name": "python",
   "nbconvert_exporter": "python",
   "pygments_lexer": "ipython3",
   "version": "3.12.3"
  }
 },
 "nbformat": 4,
 "nbformat_minor": 2
}
