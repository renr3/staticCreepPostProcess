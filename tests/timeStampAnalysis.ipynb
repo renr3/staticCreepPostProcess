{
 "cells": [
  {
   "cell_type": "markdown",
   "metadata": {},
   "source": [
    "# Set beginning of test data"
   ]
  },
  {
   "cell_type": "markdown",
   "metadata": {},
   "source": [
    "## Description"
   ]
  },
  {
   "cell_type": "markdown",
   "metadata": {},
   "source": [
    "To get the information required in the .setStartOfCreep methods below, we need to compare the information of loadingSwitch to the information of the real LVDT lines. \n",
    "\n",
    "This was done preliminary in Excel, file 20231116-RESUME_SPECIMENS.\n",
    "\n",
    "It can also be done better here, by using the code in the next section. \n",
    "\n",
    "There are three analysis to be made:\n",
    "* The synchrony between loadingSwitch and the creep system, making sure the valeys/hills of the loadingSwitch coincide with the hills/valleys of the creep system. This allows to consider both time series as synchronous\n",
    "* For each specimens's series, the time instant that sets the start of creep, which is equal to the point in which the loadingSwitch becomes open (the step in its series)\n",
    "* Determine how much the data of each specimen must be shifted in time, so all of them coincide at the same time. This may be derived by making sure a notable point coincide in all specimens' series, such as the beginning of creep (identified previously). So, for example, take X minutes before the creep time at each specimen"
   ]
  },
  {
   "cell_type": "markdown",
   "metadata": {},
   "source": [
    "## Comments related to this specific EXPERIMENT"
   ]
  },
  {
   "cell_type": "markdown",
   "metadata": {},
   "source": [
    "Esse experimento requeriu uma análise pormenorizada desse algoritmo de \"time-stamping\" pois notou-se que havia um descompasso entre os pontos de início e fim de creep obtidos aqui, e aqueles obtidos no algoritmo de processamento de dados (processCreepData.ipynb).\n",
    "O que acontecia era que o ponto de início de creep selecionado com base no presente algoritmo, quando inserido na analise definitiva dos dados, levava a curvas de creep específico que claramente se iniciavam quando a curva de creep ainda estava sob efeito de aumento de carregamento. Em outras palavras, havia um \"time-shift\" entre as duas análises.\n",
    "\n",
    "Inicialmente, observou-se que o método utilizado no presente algoritmo para fazer o \"time-stamping\" dos dados do sistema de aquisição de dados da INEGI utilizava o frequência de amostragem do sistema apenas. Já a análise definitiva utilizava o \"time-stamping\" feito pelo próprio sistema INEGI e registrado diretamente no arquivo de dados. Como esta última opção parecia ser a mais plausível, pois aparentava levar em conta eventuais oscilações na velocidade de aquisição de dados do sistema, ambos os algoritmos foram compatibilizados para utilizar tal esquema de \"time-stamping\".\n",
    "\n",
    "Ao se fazer isso, um novo problema foi observado: agora a curva do interruptor baseado no Arduino não se compatibilizava com os pontos notáveis das curvas do INEGI. Isto é, ao se sincronizar ambos os dados com os impulsos do início das séries de dados, os demais instantes sinalizados como de carregamento completo não se compatibilizavam com o que as curvas dos LVDTs mostravam. Foi-se pensado que isso poderia ser a manifestação de um efeito mecânico de creep intenso devido a alta temperatura, em que se observaria um enorme aumento, atípico, de leitura dos LVDTs mesmo após o carregamento ser completamente transferido. No entanto, as diferentes amostras apresentavam magnitudes de defasamentos entre a curva do interruptor e dos LVDTs distintos entre si. Em outras palavras, na hipótese de se assumir um fenômeno semelhante, não se obtinha concordância plaúsivel entre os dados de diferentes amostras, o que, por sua vez, falava contra a existência de fato de tal fenômeno.\n",
    "\n",
    "Notou-se que quando se utilizava o \"time-stamping\" baseado na frequência de amostragem apenas, tal defasamento entre interruptor e sistema da INEGI desaparecia (à excessão do provete SP4, mas este teve um problema relacionado ao interruptor que invalida sua consideração nas análises). Assim, supõe-se que o sistema da INEGI logicmaente possui uma alta estabilidade da amostragem, de forma que se é configurado para amostrar a 20 Hz de fato mantém essa velocidade de amostragem ao longo da sessão, talvez por meio do uso de buffers temporários, e o \"time-stamp\" inserido no aruqivo de dados considera outros atrasos inerentes ao processo de aquisição de dados, como salvamento dos valores em discos, mas que, por sua vez, não afetam o procesos de aquisição de dados em si. Isso é completamente factível de existir em um sistema de aquisição de dados comercial, e a concordância da tendência dos sinais de LVDT com os sinais do interruptor fala fortemente a favor dessa hipótese, já que estes são dois sistemas eletrônicos totalmente independentes entre si, mas que devem possui comportamento compatibilizado devido à forma mecânica em que estão acoplados.\n",
    "\n",
    "Assim, conclui-se que a adaptação necessária é fazer o algoritmo \"processCreepData.ipynb\", e a biblioteca \"staticCreepModulus.py\" basear seu processo de \"time-stamping\" não nos valores de tempo do arquivo de dados, mas no valor de frequência de amostragem informado no cabeçalho do arquivo."
   ]
  },
  {
   "cell_type": "markdown",
   "metadata": {},
   "source": [
    "## Inspection code necessary to run manually"
   ]
  },
  {
   "cell_type": "code",
   "execution_count": 1,
   "metadata": {},
   "outputs": [],
   "source": [
    "# Get path of the folder containing the test results\n",
    "from tkinter.filedialog import askopenfilename, askdirectory\n",
    "from tkinter import Tk\n",
    "import os\n",
    "import csv\n",
    "import matplotlib.pyplot as plt\n",
    "import numpy as np"
   ]
  },
  {
   "cell_type": "markdown",
   "metadata": {},
   "source": [
    "Run the code to read the loadingSwitch data"
   ]
  },
  {
   "cell_type": "code",
   "execution_count": 2,
   "metadata": {},
   "outputs": [],
   "source": [
    "# Get path of the folder containing the test results\n",
    "#Read loading switch\n",
    "window = Tk()\n",
    "window.wm_attributes('-topmost', 1)\n",
    "window.withdraw()   # this supress the tk window\n",
    "loadingSwitchPathFile = askopenfilename(parent=window, title=\"Open file of loading switch\")\n",
    "Tk().destroy()\n",
    "\n",
    "loadingSwitchData = np.loadtxt(loadingSwitchPathFile, delimiter=',')\n",
    "loadingSwitchData[:,1]=(loadingSwitchData[:,1]-loadingSwitchData[0,1])/(1e6) #transform in seconds since beginning\n",
    "#loadingSwitchData[:,0]=loadingSwitchData[:,0]/max(loadingSwitchData[:,0])"
   ]
  },
  {
   "cell_type": "markdown",
   "metadata": {},
   "source": [
    "Run the code to read creep system data"
   ]
  },
  {
   "cell_type": "markdown",
   "metadata": {},
   "source": [
    "Read sampling time information directly from file"
   ]
  },
  {
   "cell_type": "code",
   "execution_count": 8,
   "metadata": {},
   "outputs": [],
   "source": [
    "from datetime import datetime\n",
    "from datetime import timedelta\n",
    "#Inform number of active channels in the system\n",
    "numberOfChannels=13\n",
    "#Read first creep test file\n",
    "window = Tk()\n",
    "window.wm_attributes('-topmost', 1)\n",
    "window.withdraw()   # this supress the tk window\n",
    "creepPathFile = askopenfilename(parent=window, title=\"Open first file of creep system\")\n",
    "Tk().destroy()\n",
    "\n",
    "with open(creepPathFile) as f:\n",
    "    ncols = len(f.readline().split(';'))\n",
    "\n",
    "creepData = np.loadtxt(creepPathFile, delimiter=';', skiprows=25, usecols=range(1,ncols-2))\n",
    "#Create time vector\n",
    "format_string = \"%H:%M:%S.%f\"\n",
    "timeVector=[]\n",
    "samplingInterval=[]\n",
    "with open(creepPathFile) as file:\n",
    "    csvreader = csv.reader(file,delimiter=';')\n",
    "    header = []\n",
    "    for i in range(0,12+numberOfChannels): header = next(csvreader)\n",
    "    for iterationRows, row in enumerate(csvreader):\n",
    "        rawTime=(row[0])\n",
    "        processedTime = rawTime[:-6] + \".\" + rawTime[-5:-2]\n",
    "        if iterationRows == 0:\n",
    "            timeVector.append(datetime.strptime(processedTime, format_string))\n",
    "            samplingInterval.append(datetime.strptime(processedTime, format_string))\n",
    "            lastStrptime=datetime.strptime(processedTime, format_string)\n",
    "        else:\n",
    "            timeVector.append((datetime.strptime(processedTime, format_string)-timeVector[0]).total_seconds())\n",
    "            samplingInterval.append((datetime.strptime(processedTime, format_string)-lastStrptime).total_seconds())\n",
    "            lastStrptime=datetime.strptime(processedTime, format_string)\n",
    "timeVector[0]=0\n",
    "samplingInterval[0]=0.0511\n",
    "creepData = np.insert(creepData, 0, timeVector, axis=1)\n",
    "#loadingSwitchData[:,1]=(loadingSwitchData[:,1]-loadingSwitchData[0,1])/(1e6) #transform in seconds since beginning\n",
    "#loadingSwitchData[:,0]=loadingSwitchData[:,0]-max(loadingSwitchData[:,0])"
   ]
  },
  {
   "cell_type": "markdown",
   "metadata": {},
   "source": [
    "Approximate sampling time from the sampling frequency"
   ]
  },
  {
   "cell_type": "code",
   "execution_count": 3,
   "metadata": {},
   "outputs": [],
   "source": [
    "from datetime import datetime\n",
    "from datetime import timedelta\n",
    "#Inform number of active channels in the system\n",
    "numberOfChannels=13\n",
    "samplingFrequency=100\n",
    "#Read first creep test file\n",
    "window = Tk()\n",
    "window.wm_attributes('-topmost', 1)\n",
    "window.withdraw()   # this supress the tk window\n",
    "creepPathFile = askopenfilename(parent=window, title=\"Open first file of creep system\")\n",
    "Tk().destroy()\n",
    "\n",
    "# with open(creepPathFile) as f:\n",
    "#     ncols = len(f.readline().split(';'))\n",
    "\n",
    "ncols = numberOfChannels\n",
    "\n",
    "creepData2 = np.loadtxt(creepPathFile, delimiter=';', skiprows=25, usecols=range(1,ncols+1))\n",
    "#Create time vector\n",
    "format_string = \"%H:%M:%S.%f\"\n",
    "timeVector2=[]\n",
    "with open(creepPathFile) as file:\n",
    "    csvreader = csv.reader(file,delimiter=';')\n",
    "    header = []\n",
    "    for i in range(0,12+numberOfChannels): header = next(csvreader)\n",
    "    for iterationRows, row in enumerate(csvreader):\n",
    "        if iterationRows == 0:\n",
    "            timeVector2.append(1/samplingFrequency)\n",
    "        else:\n",
    "            timeVector2.append(timeVector2[iterationRows-1]+1/samplingFrequency)\n",
    "timeVector2[0]=0\n",
    "creepData2 = np.insert(creepData2, 0, timeVector2, axis=1)\n",
    "#loadingSwitchData[:,1]=(loadingSwitchData[:,1]-loadingSwitchData[0,1])/(1e6) #transform in seconds since beginning\n",
    "#loadingSwitchData[:,0]=loadingSwitchData[:,0]-max(loadingSwitchData[:,0])"
   ]
  },
  {
   "cell_type": "markdown",
   "metadata": {},
   "source": [
    "Compare both time-stamping methods"
   ]
  },
  {
   "cell_type": "code",
   "execution_count": 55,
   "metadata": {},
   "outputs": [],
   "source": [
    "%matplotlib qt\n",
    "#loadingSwitchOffset=18.637+0.416-0.830+1.393+0.31+0.20-130.58\n",
    "#loadingSwitchOffset=0\n",
    "#loadingSwitchOffset=18.637+0.416-0.830+1.393+0.31+0.20+22+1.206-132\n",
    "#plt.plot(timeVector2,creepData2[:,8]/max(creepData2[:,8]), label=\"Approx\")\n",
    "#plt.plot(timeVector,creepData[:,8]/max(creepData[:,8]), label=\"Exact\")\n",
    "#plt.plot([(value1-value2) for value1,value2 in zip(timeVector,timeVector2) if value1!=0], label=\"difference between exact and approx.\")\n",
    "#plt.plot([value-1/20 for value in samplingInterval], label=\"relation between sampling intervals exact and approx.\")\n",
    "plt.scatter(np.arange(0, len(samplingInterval)),samplingInterval, label=\"relation between sampling intervals exact and approx.\")\n",
    "#plt.plot([(value2-value1)/value1 for value1,value2 in zip(timeVector,timeVector2) if value1!=0], label=\"difference between exact and approx.\")\n",
    "#plt.plot([value1/value2 for value1,value2 in zip(timeVector,timeVector2) if value2!=0], label=\"difference between exact and approx.\")\n",
    "plt.legend()\n",
    "#plt.xlim([0,80])\n",
    "plt.show()"
   ]
  },
  {
   "cell_type": "markdown",
   "metadata": {},
   "source": [
    "Plot switch and LVDT to compatibilize their histories"
   ]
  },
  {
   "cell_type": "code",
   "execution_count": 4,
   "metadata": {},
   "outputs": [],
   "source": [
    "%matplotlib qt\n",
    "#loadingSwitchOffset=18.637+0.416-0.830+1.393+0.31+0.20-130.58\n",
    "#loadingSwitchOffset=0\n",
    "loadingSwitchOffset=-29.41+1.509-9.11\n",
    "#loadingSwitchOffset=18.637+0.416-0.830+1.393+0.31+0.20+22+1.206-132\n",
    "plt.plot(loadingSwitchData[:,1]+loadingSwitchOffset,loadingSwitchData[:,0]/max(loadingSwitchData[:,0]), label=\"Loading switch\")\n",
    "plt.plot(timeVector2,creepData2[:,3]/max(creepData2[:,3]), label=\"Creep system\")\n",
    "plt.legend()\n",
    "#plt.xlim([0,80])\n",
    "plt.show()"
   ]
  },
  {
   "cell_type": "markdown",
   "metadata": {},
   "source": [
    "Now that loadingSwitchOffset is done, we can inspect for each specimen by selecting the proper lines below and plotting them"
   ]
  },
  {
   "cell_type": "code",
   "execution_count": 7,
   "metadata": {},
   "outputs": [],
   "source": [
    "creepData=creepData2\n",
    "timeVector=timeVector2"
   ]
  },
  {
   "cell_type": "code",
   "execution_count": 8,
   "metadata": {},
   "outputs": [],
   "source": [
    "#SP2\n",
    "%matplotlib qt\n",
    "fig, ax1 = plt.subplots()\n",
    "ax1.plot(loadingSwitchData[:,1]+loadingSwitchOffset,loadingSwitchData[:,0]/max(loadingSwitchData[:,0]),linestyle=\"--\", color='r', label=\"Loading switch\")\n",
    "ax1.plot(creepData[:,0],creepData[:,13]/max(creepData[:,13]),linestyle=\"--\", color='k', label=\"Load cell\")\n",
    "\n",
    "ax2=ax1.twinx()\n",
    "ax2.plot(creepData[:,0],creepData[:,6], label=\"SP_1-LVDT_2A\")\n",
    "ax2.plot(creepData[:,0],creepData[:,5], label=\"SP_1-LVDT_1A\")\n",
    "ax2.plot(creepData[:,0],creepData[:,8], label=\"SP_1-LVDT_4A\")\n",
    "\n",
    "ax2.plot(creepData[:,0],creepData[:,10], label=\"SP_2-LVDT_5A\")\n",
    "ax2.plot(creepData[:,0],creepData[:,9], label=\"SP_2-LVDT_05\")\n",
    "ax2.plot(creepData[:,0],creepData[:,7], label=\"SP_2-LVDT-3A\")\n",
    "\n",
    "ax2.plot(creepData[:,0],creepData[:,11], label=\"SP_3-LVDT_07\")\n",
    "ax2.plot(creepData[:,0],creepData[:,12], label=\"SP_3-LVDT_09\")\n",
    "ax2.plot(creepData[:,0],creepData[:,4], label=\"SP_3-LVDT_10\")\n",
    "\n",
    "ax2.plot(creepData[:,0],creepData[:,2], label=\"SP_4-LVDT_00\")\n",
    "ax2.plot(creepData[:,0],creepData[:,3], label=\"SP_4-LVDT_01\")\n",
    "ax2.plot(creepData[:,0],creepData[:,1], label=\"SP_4-LVDT_HS25\")\n",
    "\n",
    "fig.legend()\n",
    "#plt.xlim([0,80])\n",
    "plt.show()\n",
    "\n",
    "##### Results:\n",
    "#SP2 full load starts 219.734 seconds after test start "
   ]
  },
  {
   "cell_type": "code",
   "execution_count": 68,
   "metadata": {},
   "outputs": [],
   "source": [
    "#SP2\n",
    "%matplotlib qt\n",
    "fig, ax1 = plt.subplots()\n",
    "ax1.plot(loadingSwitchData[:,1]+loadingSwitchOffset,loadingSwitchData[:,0]/max(loadingSwitchData[:,0]),linestyle=\"--\", color='r', label=\"Loading switch\")\n",
    "ax2=ax1.twinx()\n",
    "ax2.plot(creepData[:,0],creepData[:,8], label=\"SP_2-LVDT_1A\")\n",
    "ax2.plot(creepData[:,0],creepData[:,9], label=\"SP_2-LVDT_2A\")\n",
    "ax2.plot(creepData[:,0],creepData[:,11], label=\"SP_2-LVDT_4A\")\n",
    "fig.legend()\n",
    "#plt.xlim([0,80])\n",
    "plt.show()\n",
    "\n",
    "##### Results:\n",
    "#SP2 full load starts 219.734 seconds after test start "
   ]
  },
  {
   "cell_type": "code",
   "execution_count": 63,
   "metadata": {},
   "outputs": [],
   "source": [
    "#SP4\n",
    "%matplotlib qt\n",
    "fig, ax1 = plt.subplots()\n",
    "ax1.plot(loadingSwitchData[:,1]+loadingSwitchOffset,loadingSwitchData[:,0]/max(loadingSwitchData[:,0]),linestyle=\"--\", color='r', label=\"Loading switch\")\n",
    "ax2=ax1.twinx()\n",
    "ax2.plot(creepData[:,0],creepData[:,10], label=\"SP_4-LVDT_3A\")\n",
    "ax2.plot(creepData[:,0],creepData[:,4], label=\"SP_4-LVDT_5\")\n",
    "ax2.plot(creepData[:,0],creepData[:,12], label=\"SP_4-LVDT-5A\")\n",
    "fig.legend()\n",
    "#plt.xlim([0,80])\n",
    "plt.show()\n",
    "\n",
    "##### Results:\n",
    "#SP4 full load starts 413.758 seconds after test start "
   ]
  },
  {
   "cell_type": "code",
   "execution_count": 62,
   "metadata": {},
   "outputs": [],
   "source": [
    "#SP3\n",
    "%matplotlib qt\n",
    "fig, ax1 = plt.subplots()\n",
    "ax1.plot(loadingSwitchData[:,1]+loadingSwitchOffset,loadingSwitchData[:,0]/max(loadingSwitchData[:,0]),linestyle=\"--\", color='r', label=\"Loading switch\")\n",
    "ax2=ax1.twinx()\n",
    "ax2.plot(creepData[:,0],creepData[:,5], label=\"SP_3-LVDT_07\")\n",
    "ax2.plot(creepData[:,0],creepData[:,6], label=\"SP_3-LVDT_09\")\n",
    "ax2.plot(creepData[:,0],creepData[:,7], label=\"SP_3-LVDT_10\")\n",
    "fig.legend()\n",
    "#plt.xlim([0,80])\n",
    "plt.show()\n",
    "\n",
    "##### Results:\n",
    "#SP3 full load starts 859.5356 seconds after test start "
   ]
  },
  {
   "cell_type": "code",
   "execution_count": 60,
   "metadata": {},
   "outputs": [],
   "source": [
    "#SP5\n",
    "%matplotlib qt\n",
    "fig, ax1 = plt.subplots()\n",
    "ax1.plot(loadingSwitchData[:,1]+loadingSwitchOffset,loadingSwitchData[:,0]/max(loadingSwitchData[:,0]),linestyle=\"--\", color='r', label=\"Loading switch\")\n",
    "ax2=ax1.twinx()\n",
    "ax2.plot(creepData[:,0],creepData[:,2], label=\"SP_5-LVDT_00\")\n",
    "ax2.plot(creepData[:,0],creepData[:,3], label=\"SP_5-LVDT_01\")\n",
    "ax2.plot(creepData[:,0],creepData[:,1], label=\"SP_5-LVDT_HS10\")\n",
    "fig.legend() \n",
    "#plt.xlim([0,80])\n",
    "plt.show()\n",
    "\n",
    "##### Results:\n",
    "#SP5 full load starts 1011.763 seconds after test start "
   ]
  }
 ],
 "metadata": {
  "kernelspec": {
   "display_name": "Python 3",
   "language": "python",
   "name": "python3"
  },
  "language_info": {
   "codemirror_mode": {
    "name": "ipython",
    "version": 3
   },
   "file_extension": ".py",
   "mimetype": "text/x-python",
   "name": "python",
   "nbconvert_exporter": "python",
   "pygments_lexer": "ipython3",
   "version": "3.12.3"
  }
 },
 "nbformat": 4,
 "nbformat_minor": 2
}
